{
  "nbformat": 4,
  "nbformat_minor": 0,
  "metadata": {
    "colab": {
      "name": "Data Representation .ipynb",
      "provenance": []
    },
    "kernelspec": {
      "name": "python3",
      "display_name": "Python 3"
    },
    "language_info": {
      "name": "python"
    }
  },
  "cells": [
    {
      "cell_type": "markdown",
      "source": [
        "# ***Bangladeshi Students Survey***\n",
        "*Online Survey Data of Bangladeshi Students*"
      ],
      "metadata": {
        "id": "0H1Z5TcYl2Tu"
      }
    },
    {
      "cell_type": "markdown",
      "source": [
        "### *Importing Libraries*"
      ],
      "metadata": {
        "id": "PvqI7GWEo_hi"
      }
    },
    {
      "cell_type": "code",
      "source": [
        "# importing libraries\n",
        "import pandas as pd # data processing\n",
        "import numpy as np # linear algebra\n",
        "import matplotlib.pyplot as plt # visualization\n",
        "%matplotlib inline\n",
        "\n",
        "import seaborn as sns\n",
        "# increases the size of sns plots\n",
        "sns.set(rc={'figure.figsize':(8,6)})"
      ],
      "metadata": {
        "id": "F3VwrPxOmTsK"
      },
      "execution_count": 28,
      "outputs": []
    },
    {
      "cell_type": "markdown",
      "source": [
        "### *Read Data*"
      ],
      "metadata": {
        "id": "RckUMjUhpXjc"
      }
    },
    {
      "cell_type": "code",
      "source": [
        "# raw data in panda dataframe\n",
        "df = pd.read_csv('/content/Online Survey Data on Education Bd.csv')\n",
        "print('Data Frame Shape: \\n{}'.format(df.shape))\n",
        "# shows five instances of the dataframe\n",
        "df.head()"
      ],
      "metadata": {
        "colab": {
          "base_uri": "https://localhost:8080/",
          "height": 531
        },
        "id": "eiCpgcu9mv3B",
        "outputId": "eaf94e8b-6f6d-4cfa-9be5-9af60285e6c2"
      },
      "execution_count": 12,
      "outputs": [
        {
          "output_type": "stream",
          "name": "stdout",
          "text": [
            "Data Frame Shape: \n",
            "(8783, 17)\n"
          ]
        },
        {
          "output_type": "execute_result",
          "data": {
            "text/plain": [
              "  Level of study?  Age?  \\\n",
              "0        Upto HSC  20.0   \n",
              "1  Hons or Grater  25.0   \n",
              "2  Hons or Grater  25.0   \n",
              "3        Upto HSC  21.0   \n",
              "4  Hons or Grater  22.0   \n",
              "\n",
              "  Used smartphone/computer/laptop previously before online class?  \\\n",
              "0                                                Yes                \n",
              "1                                                 No                \n",
              "2                                                Yes                \n",
              "3                                                Yes                \n",
              "4                                                Yes                \n",
              "\n",
              "  Result increased after online education  (comparatively)?  \\\n",
              "0                                                 No          \n",
              "1                                                 No          \n",
              "2                                                Yes          \n",
              "3                                                Yes          \n",
              "4                                                 No          \n",
              "\n",
              "  Knowledge increased after online education (comparatively)?  \\\n",
              "0                                                Yes            \n",
              "1                                                 No            \n",
              "2                                                Yes            \n",
              "3                                                 No            \n",
              "4                                                 No            \n",
              "\n",
              "  Happy with online education? Education Institute Area?  \\\n",
              "0                           No                     Urban   \n",
              "1                           No                     Urban   \n",
              "2                          Yes                     Rural   \n",
              "3                          Yes                     Urban   \n",
              "4                           No                     Rural   \n",
              "\n",
              "  Have Internet availability? Broadband / Mobile Internet?  \\\n",
              "0                          No                    Broadband   \n",
              "1                          No              Mobile Internet   \n",
              "2                          No              Mobile Internet   \n",
              "3                         Yes              Mobile Internet   \n",
              "4                          No              Mobile Internet   \n",
              "\n",
              "   Total hours of study before online education?  \\\n",
              "0                                              4   \n",
              "1                                              4   \n",
              "2                                              5   \n",
              "3                                              5   \n",
              "4                                              4   \n",
              "\n",
              "   Total hours of study after online education?  \\\n",
              "0                                             3   \n",
              "1                                             4   \n",
              "2                                             2   \n",
              "3                                             3   \n",
              "4                                             2   \n",
              "\n",
              "  Class performance increased in online education? Institute Type  \\\n",
              "0                                               No         Public   \n",
              "1                                               No         Public   \n",
              "2                                              Yes         Public   \n",
              "3                                               No        Private   \n",
              "4                                              Yes         Public   \n",
              "\n",
              "  Current location (During Study) ?  Gender  \\\n",
              "0                             Rural    Male   \n",
              "1                             Rural    Male   \n",
              "2                             Rural  Female   \n",
              "3                             Urban    Male   \n",
              "4                             Urban    Male   \n",
              "\n",
              "  Faced any issue with online class? Preferred device for an online course  \n",
              "0                                Yes                                Mobile  \n",
              "1                                Yes                                Mobile  \n",
              "2                                Yes                              Computer  \n",
              "3                                Yes                                Mobile  \n",
              "4                                 No                                Mobile  "
            ],
            "text/html": [
              "\n",
              "  <div id=\"df-34bc25c8-f062-412c-a400-32adfa19bcf1\">\n",
              "    <div class=\"colab-df-container\">\n",
              "      <div>\n",
              "<style scoped>\n",
              "    .dataframe tbody tr th:only-of-type {\n",
              "        vertical-align: middle;\n",
              "    }\n",
              "\n",
              "    .dataframe tbody tr th {\n",
              "        vertical-align: top;\n",
              "    }\n",
              "\n",
              "    .dataframe thead th {\n",
              "        text-align: right;\n",
              "    }\n",
              "</style>\n",
              "<table border=\"1\" class=\"dataframe\">\n",
              "  <thead>\n",
              "    <tr style=\"text-align: right;\">\n",
              "      <th></th>\n",
              "      <th>Level of study?</th>\n",
              "      <th>Age?</th>\n",
              "      <th>Used smartphone/computer/laptop previously before online class?</th>\n",
              "      <th>Result increased after online education  (comparatively)?</th>\n",
              "      <th>Knowledge increased after online education (comparatively)?</th>\n",
              "      <th>Happy with online education?</th>\n",
              "      <th>Education Institute Area?</th>\n",
              "      <th>Have Internet availability?</th>\n",
              "      <th>Broadband / Mobile Internet?</th>\n",
              "      <th>Total hours of study before online education?</th>\n",
              "      <th>Total hours of study after online education?</th>\n",
              "      <th>Class performance increased in online education?</th>\n",
              "      <th>Institute Type</th>\n",
              "      <th>Current location (During Study) ?</th>\n",
              "      <th>Gender</th>\n",
              "      <th>Faced any issue with online class?</th>\n",
              "      <th>Preferred device for an online course</th>\n",
              "    </tr>\n",
              "  </thead>\n",
              "  <tbody>\n",
              "    <tr>\n",
              "      <th>0</th>\n",
              "      <td>Upto HSC</td>\n",
              "      <td>20.0</td>\n",
              "      <td>Yes</td>\n",
              "      <td>No</td>\n",
              "      <td>Yes</td>\n",
              "      <td>No</td>\n",
              "      <td>Urban</td>\n",
              "      <td>No</td>\n",
              "      <td>Broadband</td>\n",
              "      <td>4</td>\n",
              "      <td>3</td>\n",
              "      <td>No</td>\n",
              "      <td>Public</td>\n",
              "      <td>Rural</td>\n",
              "      <td>Male</td>\n",
              "      <td>Yes</td>\n",
              "      <td>Mobile</td>\n",
              "    </tr>\n",
              "    <tr>\n",
              "      <th>1</th>\n",
              "      <td>Hons or Grater</td>\n",
              "      <td>25.0</td>\n",
              "      <td>No</td>\n",
              "      <td>No</td>\n",
              "      <td>No</td>\n",
              "      <td>No</td>\n",
              "      <td>Urban</td>\n",
              "      <td>No</td>\n",
              "      <td>Mobile Internet</td>\n",
              "      <td>4</td>\n",
              "      <td>4</td>\n",
              "      <td>No</td>\n",
              "      <td>Public</td>\n",
              "      <td>Rural</td>\n",
              "      <td>Male</td>\n",
              "      <td>Yes</td>\n",
              "      <td>Mobile</td>\n",
              "    </tr>\n",
              "    <tr>\n",
              "      <th>2</th>\n",
              "      <td>Hons or Grater</td>\n",
              "      <td>25.0</td>\n",
              "      <td>Yes</td>\n",
              "      <td>Yes</td>\n",
              "      <td>Yes</td>\n",
              "      <td>Yes</td>\n",
              "      <td>Rural</td>\n",
              "      <td>No</td>\n",
              "      <td>Mobile Internet</td>\n",
              "      <td>5</td>\n",
              "      <td>2</td>\n",
              "      <td>Yes</td>\n",
              "      <td>Public</td>\n",
              "      <td>Rural</td>\n",
              "      <td>Female</td>\n",
              "      <td>Yes</td>\n",
              "      <td>Computer</td>\n",
              "    </tr>\n",
              "    <tr>\n",
              "      <th>3</th>\n",
              "      <td>Upto HSC</td>\n",
              "      <td>21.0</td>\n",
              "      <td>Yes</td>\n",
              "      <td>Yes</td>\n",
              "      <td>No</td>\n",
              "      <td>Yes</td>\n",
              "      <td>Urban</td>\n",
              "      <td>Yes</td>\n",
              "      <td>Mobile Internet</td>\n",
              "      <td>5</td>\n",
              "      <td>3</td>\n",
              "      <td>No</td>\n",
              "      <td>Private</td>\n",
              "      <td>Urban</td>\n",
              "      <td>Male</td>\n",
              "      <td>Yes</td>\n",
              "      <td>Mobile</td>\n",
              "    </tr>\n",
              "    <tr>\n",
              "      <th>4</th>\n",
              "      <td>Hons or Grater</td>\n",
              "      <td>22.0</td>\n",
              "      <td>Yes</td>\n",
              "      <td>No</td>\n",
              "      <td>No</td>\n",
              "      <td>No</td>\n",
              "      <td>Rural</td>\n",
              "      <td>No</td>\n",
              "      <td>Mobile Internet</td>\n",
              "      <td>4</td>\n",
              "      <td>2</td>\n",
              "      <td>Yes</td>\n",
              "      <td>Public</td>\n",
              "      <td>Urban</td>\n",
              "      <td>Male</td>\n",
              "      <td>No</td>\n",
              "      <td>Mobile</td>\n",
              "    </tr>\n",
              "  </tbody>\n",
              "</table>\n",
              "</div>\n",
              "      <button class=\"colab-df-convert\" onclick=\"convertToInteractive('df-34bc25c8-f062-412c-a400-32adfa19bcf1')\"\n",
              "              title=\"Convert this dataframe to an interactive table.\"\n",
              "              style=\"display:none;\">\n",
              "        \n",
              "  <svg xmlns=\"http://www.w3.org/2000/svg\" height=\"24px\"viewBox=\"0 0 24 24\"\n",
              "       width=\"24px\">\n",
              "    <path d=\"M0 0h24v24H0V0z\" fill=\"none\"/>\n",
              "    <path d=\"M18.56 5.44l.94 2.06.94-2.06 2.06-.94-2.06-.94-.94-2.06-.94 2.06-2.06.94zm-11 1L8.5 8.5l.94-2.06 2.06-.94-2.06-.94L8.5 2.5l-.94 2.06-2.06.94zm10 10l.94 2.06.94-2.06 2.06-.94-2.06-.94-.94-2.06-.94 2.06-2.06.94z\"/><path d=\"M17.41 7.96l-1.37-1.37c-.4-.4-.92-.59-1.43-.59-.52 0-1.04.2-1.43.59L10.3 9.45l-7.72 7.72c-.78.78-.78 2.05 0 2.83L4 21.41c.39.39.9.59 1.41.59.51 0 1.02-.2 1.41-.59l7.78-7.78 2.81-2.81c.8-.78.8-2.07 0-2.86zM5.41 20L4 18.59l7.72-7.72 1.47 1.35L5.41 20z\"/>\n",
              "  </svg>\n",
              "      </button>\n",
              "      \n",
              "  <style>\n",
              "    .colab-df-container {\n",
              "      display:flex;\n",
              "      flex-wrap:wrap;\n",
              "      gap: 12px;\n",
              "    }\n",
              "\n",
              "    .colab-df-convert {\n",
              "      background-color: #E8F0FE;\n",
              "      border: none;\n",
              "      border-radius: 50%;\n",
              "      cursor: pointer;\n",
              "      display: none;\n",
              "      fill: #1967D2;\n",
              "      height: 32px;\n",
              "      padding: 0 0 0 0;\n",
              "      width: 32px;\n",
              "    }\n",
              "\n",
              "    .colab-df-convert:hover {\n",
              "      background-color: #E2EBFA;\n",
              "      box-shadow: 0px 1px 2px rgba(60, 64, 67, 0.3), 0px 1px 3px 1px rgba(60, 64, 67, 0.15);\n",
              "      fill: #174EA6;\n",
              "    }\n",
              "\n",
              "    [theme=dark] .colab-df-convert {\n",
              "      background-color: #3B4455;\n",
              "      fill: #D2E3FC;\n",
              "    }\n",
              "\n",
              "    [theme=dark] .colab-df-convert:hover {\n",
              "      background-color: #434B5C;\n",
              "      box-shadow: 0px 1px 3px 1px rgba(0, 0, 0, 0.15);\n",
              "      filter: drop-shadow(0px 1px 2px rgba(0, 0, 0, 0.3));\n",
              "      fill: #FFFFFF;\n",
              "    }\n",
              "  </style>\n",
              "\n",
              "      <script>\n",
              "        const buttonEl =\n",
              "          document.querySelector('#df-34bc25c8-f062-412c-a400-32adfa19bcf1 button.colab-df-convert');\n",
              "        buttonEl.style.display =\n",
              "          google.colab.kernel.accessAllowed ? 'block' : 'none';\n",
              "\n",
              "        async function convertToInteractive(key) {\n",
              "          const element = document.querySelector('#df-34bc25c8-f062-412c-a400-32adfa19bcf1');\n",
              "          const dataTable =\n",
              "            await google.colab.kernel.invokeFunction('convertToInteractive',\n",
              "                                                     [key], {});\n",
              "          if (!dataTable) return;\n",
              "\n",
              "          const docLinkHtml = 'Like what you see? Visit the ' +\n",
              "            '<a target=\"_blank\" href=https://colab.research.google.com/notebooks/data_table.ipynb>data table notebook</a>'\n",
              "            + ' to learn more about interactive tables.';\n",
              "          element.innerHTML = '';\n",
              "          dataTable['output_type'] = 'display_data';\n",
              "          await google.colab.output.renderOutput(dataTable, element);\n",
              "          const docLink = document.createElement('div');\n",
              "          docLink.innerHTML = docLinkHtml;\n",
              "          element.appendChild(docLink);\n",
              "        }\n",
              "      </script>\n",
              "    </div>\n",
              "  </div>\n",
              "  "
            ]
          },
          "metadata": {},
          "execution_count": 12
        }
      ]
    },
    {
      "cell_type": "markdown",
      "source": [
        "### *Data Pre-processing*"
      ],
      "metadata": {
        "id": "y0hKEl-8rcd_"
      }
    },
    {
      "cell_type": "code",
      "source": [
        "df.columns"
      ],
      "metadata": {
        "colab": {
          "base_uri": "https://localhost:8080/"
        },
        "id": "3P1C4cpFpud_",
        "outputId": "e8dafb5a-d3ac-486d-a66d-0a09d505b9e3"
      },
      "execution_count": 16,
      "outputs": [
        {
          "output_type": "execute_result",
          "data": {
            "text/plain": [
              "Index(['Level of study?', 'Age?',\n",
              "       'Used smartphone/computer/laptop previously before online class?',\n",
              "       'Result increased after online education  (comparatively)?',\n",
              "       'Knowledge increased after online education (comparatively)?',\n",
              "       'Happy with online education?', 'Education Institute Area?',\n",
              "       'Have Internet availability?', 'Broadband / Mobile Internet?',\n",
              "       'Total hours of study before online education?',\n",
              "       'Total hours of study after online education?',\n",
              "       'Class performance increased in online education?', 'Institute Type',\n",
              "       'Current location (During Study) ?', 'Gender',\n",
              "       'Faced any issue with online class?',\n",
              "       'Preferred device for an online course'],\n",
              "      dtype='object')"
            ]
          },
          "metadata": {},
          "execution_count": 16
        }
      ]
    },
    {
      "cell_type": "code",
      "source": [
        "# investigating all the elements whithin each Feature\n",
        "for column in df:\n",
        "  unique_vals = df[column].unique()\n",
        "  nr_values = len(unique_vals)\n",
        "  \n",
        "  if nr_values < 10:\n",
        "    print('The number of values for feature {} :{} -- {}'.format(column, nr_values,unique_vals))\n",
        "  else:\n",
        "    print('The number of values for feature {} :{}'.format(column, nr_values))"
      ],
      "metadata": {
        "colab": {
          "base_uri": "https://localhost:8080/"
        },
        "id": "2QQAZkuJrJTS",
        "outputId": "142ce816-2519-45a9-b7c6-5e48e6891743"
      },
      "execution_count": 18,
      "outputs": [
        {
          "output_type": "stream",
          "name": "stdout",
          "text": [
            "The number of values for feature Level of study? :2 -- ['Upto HSC' 'Hons or Grater']\n",
            "The number of values for feature Age? :12\n",
            "The number of values for feature Used smartphone/computer/laptop previously before online class? :3 -- ['Yes' 'No' nan]\n",
            "The number of values for feature Result increased after online education  (comparatively)? :3 -- ['No' 'Yes' nan]\n",
            "The number of values for feature Knowledge increased after online education (comparatively)? :2 -- ['Yes' 'No']\n",
            "The number of values for feature Happy with online education? :2 -- ['No' 'Yes']\n",
            "The number of values for feature Education Institute Area? :3 -- ['Urban' 'Rural' nan]\n",
            "The number of values for feature Have Internet availability? :2 -- ['No' 'Yes']\n",
            "The number of values for feature Broadband / Mobile Internet? :2 -- ['Broadband' 'Mobile Internet']\n",
            "The number of values for feature Total hours of study before online education? :4 -- [4 5 3 6]\n",
            "The number of values for feature Total hours of study after online education? :3 -- [3 4 2]\n",
            "The number of values for feature Class performance increased in online education? :2 -- ['No' 'Yes']\n",
            "The number of values for feature Institute Type :3 -- ['Public' 'Private' nan]\n",
            "The number of values for feature Current location (During Study) ? :3 -- ['Rural' 'Urban' nan]\n",
            "The number of values for feature Gender :3 -- ['Male' 'Female' nan]\n",
            "The number of values for feature Faced any issue with online class? :3 -- ['Yes' 'No' nan]\n",
            "The number of values for feature Preferred device for an online course :2 -- ['Mobile' 'Computer']\n"
          ]
        }
      ]
    },
    {
      "cell_type": "code",
      "source": [
        "# checking for the null values\n",
        "df.isnull().sum()"
      ],
      "metadata": {
        "colab": {
          "base_uri": "https://localhost:8080/"
        },
        "id": "XmvFODkXrop2",
        "outputId": "563ce14c-ee40-43b5-94c8-35a96a687105"
      },
      "execution_count": 27,
      "outputs": [
        {
          "output_type": "execute_result",
          "data": {
            "text/plain": [
              "Level of study?                                                      0\n",
              "Age?                                                               445\n",
              "Used smartphone/computer/laptop previously before online class?    188\n",
              "Result increased after online education  (comparatively)?          323\n",
              "Knowledge increased after online education (comparatively)?          0\n",
              "Happy with online education?                                         0\n",
              "Education Institute Area?                                          529\n",
              "Have Internet availability?                                          0\n",
              "Broadband / Mobile Internet?                                         0\n",
              "Total hours of study before online education?                        0\n",
              "Total hours of study after online education?                         0\n",
              "Class performance increased in online education?                     0\n",
              "Institute Type                                                     726\n",
              "Current location (During Study) ?                                  726\n",
              "Gender                                                             676\n",
              "Faced any issue with online class?                                 701\n",
              "Preferred device for an online course                                0\n",
              "dtype: int64"
            ]
          },
          "metadata": {},
          "execution_count": 27
        }
      ]
    }
  ]
}