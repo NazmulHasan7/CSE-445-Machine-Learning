{
  "cells": [
    {
      "cell_type": "markdown",
      "metadata": {
        "id": "g-ImD1CrztBP"
      },
      "source": [
        "#  ***ZeroR Classifier***\n",
        "*ZeroR is the simplest classification method which \n",
        "relies on the target and ignores all predictors. ZeroR classifier simply predicts the majority category (class). Although there is no predictability power in ZeroR, it is useful for determining a baseline performance as a benchmark for other classification methods.*\n"
      ]
    },
    {
      "cell_type": "code",
      "execution_count": 12,
      "metadata": {
        "id": "ITBPPm2Cydt0"
      },
      "outputs": [],
      "source": [
        "# importing libraries\n",
        "from sklearn.dummy import DummyClassifier\n",
        "from sklearn.metrics import accuracy_score\n",
        "from sklearn.metrics import confusion_matrix\n",
        "from sklearn.metrics import classification_report\n",
        "\n",
        "# to read & handle files\n",
        "import pandas as pd"
      ]
    },
    {
      "cell_type": "code",
      "execution_count": null,
      "metadata": {
        "colab": {
          "base_uri": "https://localhost:8080/"
        },
        "id": "uBZz9tuxzHBQ",
        "outputId": "0f5d010e-e645-4a3d-b0b8-91d4ece474f1"
      },
      "outputs": [
        {
          "name": "stdout",
          "output_type": "stream",
          "text": [
            "Data: \n",
            "     outlook  temperature  humidity  windy play\n",
            "0      sunny           85        85  False   no\n",
            "1      sunny           80        90   True   no\n",
            "2   overcast           83        86  False  yes\n",
            "3      rainy           70        96  False  yes\n",
            "4      rainy           68        80  False  yes\n",
            "5      rainy           65        70   True   no\n",
            "6   overcast           64        65   True  yes\n",
            "7      sunny           72        95  False   no\n",
            "8      sunny           69        70  False  yes\n",
            "9      rainy           75        80  False  yes\n",
            "10     sunny           75        70   True  yes\n",
            "11  overcast           72        90   True  yes\n",
            "12  overcast           81        75  False  yes\n",
            "13     rainy           71        91   True   no\n",
            "Shape (14, 5)\n",
            "\n",
            "First Five Instances: \n",
            "    outlook  temperature  humidity  windy play\n",
            "0     sunny           85        85  False   no\n",
            "1     sunny           80        90   True   no\n",
            "2  overcast           83        86  False  yes\n",
            "3     rainy           70        96  False  yes\n",
            "4     rainy           68        80  False  yes\n",
            "Dataframe Description: \n",
            "       temperature   humidity\n",
            "count    14.000000  14.000000\n",
            "mean     73.571429  81.642857\n",
            "std       6.571667  10.285218\n",
            "min      64.000000  65.000000\n",
            "25%      69.250000  71.250000\n",
            "50%      72.000000  82.500000\n",
            "75%      78.750000  90.000000\n",
            "max      85.000000  96.000000\n"
          ]
        }
      ],
      "source": [
        "# reads the csv file containg the data\n",
        "df = pd.read_csv('/content/Weather Dataset.csv')\n",
        "print('Data: \\n{}'.format(df))\n",
        "print('Shape {}\\n'.format(df.shape))\n",
        "\n",
        "# prints first five instances of the dataframe\n",
        "print('First Five Instances: \\n{}'.format(df.head()))\n",
        "# prints statistical description of the dataframe\n",
        "print('Dataframe Description: \\n{}'.format(df.describe()))"
      ]
    },
    {
      "cell_type": "code",
      "execution_count": null,
      "metadata": {
        "colab": {
          "base_uri": "https://localhost:8080/"
        },
        "id": "4Nu96cI6-Pb9",
        "outputId": "381c4307-3634-4f82-c060-936e093088de"
      },
      "outputs": [
        {
          "name": "stdout",
          "output_type": "stream",
          "text": [
            "Attributes: \n",
            "     outlook  temperature  humidity  windy\n",
            "0      sunny           85        85  False\n",
            "1      sunny           80        90   True\n",
            "2   overcast           83        86  False\n",
            "3      rainy           70        96  False\n",
            "4      rainy           68        80  False\n",
            "5      rainy           65        70   True\n",
            "6   overcast           64        65   True\n",
            "7      sunny           72        95  False\n",
            "8      sunny           69        70  False\n",
            "9      rainy           75        80  False\n",
            "10     sunny           75        70   True\n",
            "11  overcast           72        90   True\n",
            "12  overcast           81        75  False\n",
            "13     rainy           71        91   True\n",
            "\n",
            "Target Class: \n",
            "0      no\n",
            "1      no\n",
            "2     yes\n",
            "3     yes\n",
            "4     yes\n",
            "5      no\n",
            "6     yes\n",
            "7      no\n",
            "8     yes\n",
            "9     yes\n",
            "10    yes\n",
            "11    yes\n",
            "12    yes\n",
            "13     no\n",
            "Name: play, dtype: object\n"
          ]
        }
      ],
      "source": [
        "# dropping play column to separte the features\n",
        "features = df.drop(columns = ['play'])\n",
        "print('Attributes: \\n{}\\n'.format(features))\n",
        "\n",
        "# set play as the target class\n",
        "target = df['play']\n",
        "print('Target Class: \\n{}'.format(target))"
      ]
    },
    {
      "cell_type": "code",
      "execution_count": null,
      "metadata": {
        "colab": {
          "base_uri": "https://localhost:8080/"
        },
        "id": "GHmOAUFJ_9uM",
        "outputId": "186a9520-ed98-4c3c-deca-625e3f39a569"
      },
      "outputs": [
        {
          "data": {
            "text/plain": [
              "DummyClassifier(random_state=0, strategy='most_frequent')"
            ]
          },
          "execution_count": 5,
          "metadata": {},
          "output_type": "execute_result"
        }
      ],
      "source": [
        "# using ZeroR classifier\n",
        "# most_frequent: the predict method always returns the most frequent class label in the observed y argument passed to fit. \n",
        "model = DummyClassifier(strategy = 'most_frequent', random_state = 0)\n",
        "\n",
        "# fit() is used to train the model\n",
        "model.fit(features, target)\n",
        "# dataset is trained and a model is created"
      ]
    },
    {
      "cell_type": "code",
      "execution_count": null,
      "metadata": {
        "colab": {
          "base_uri": "https://localhost:8080/"
        },
        "id": "qlh2KtUICnwj",
        "outputId": "de5244bc-daa1-4ab1-fba5-735853087cd5"
      },
      "outputs": [
        {
          "name": "stdout",
          "output_type": "stream",
          "text": [
            "Predictions made by the ZeroR classifier\n",
            "['yes' 'yes' 'yes' 'yes' 'yes' 'yes' 'yes' 'yes' 'yes' 'yes' 'yes' 'yes'\n",
            " 'yes' 'yes']\n",
            "Accuracy score of the model: \n",
            "0.6428571428571429\n",
            "[[0 5]\n",
            " [0 9]]\n"
          ]
        }
      ],
      "source": [
        "# predictions of the model\n",
        "predictions = model.predict(features)\n",
        "print('Predictions made by the ZeroR classifier')\n",
        "print(predictions)\n",
        "\n",
        "# accuracy of the prediction by the model\n",
        "score = accuracy_score(target, predictions)\n",
        "print('Accuracy score of the model: ')\n",
        "print(score)\n",
        "\n",
        "# confusion matrix\n",
        "print(confusion_matrix(target, predictions))"
      ]
    },
    {
      "cell_type": "code",
      "execution_count": 13,
      "metadata": {
        "colab": {
          "base_uri": "https://localhost:8080/",
          "height": 295
        },
        "id": "dFbXX05DVP-e",
        "outputId": "aad56ca6-453f-49f0-ac76-4bcf7b7decb6"
      },
      "outputs": [
        {
          "data": {
            "image/png": "[encoded data removed]",
            "text/plain": [
              "<Figure size 432x288 with 2 Axes>"
            ]
          },
          "metadata": {
            "needs_background": "light"
          },
          "output_type": "display_data"
        }
      ],
      "source": [
        "# plotting confusion matrix\n",
        "import matplotlib.pyplot as plt\n",
        "from sklearn.metrics import ConfusionMatrixDisplay\n",
        "\n",
        "conf_matrix = confusion_matrix(target, predictions)\n",
        "# creating confusion matrix display object - alphabetical sorting order\n",
        "conf_matrix_dis_object = ConfusionMatrixDisplay(conf_matrix, display_labels=['NO', 'YES'])\n",
        "conf_matrix_dis_object.plot()\n",
        "\n",
        "# using axes attribute 'ax_' to get the underlying axes\n",
        "conf_matrix_dis_object.ax_.set(\n",
        "    title = 'Confusion Matrix for ZeroR',\n",
        "    xlabel = 'Predicted',\n",
        "    ylabel = 'Actual'\n",
        ")\n",
        "plt.show()"
      ]
    }
  ],
  "metadata": {
    "colab": {
      "collapsed_sections": [],
      "name": "ZeroR.ipynb",
      "provenance": []
    },
    "kernelspec": {
      "display_name": "Python 3",
      "name": "python3"
    },
    "language_info": {
      "name": "python",
      "version": "3.6.8"
    }
  },
  "nbformat": 4,
  "nbformat_minor": 0
}
