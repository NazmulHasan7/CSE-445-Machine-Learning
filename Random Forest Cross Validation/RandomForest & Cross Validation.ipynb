{
  "nbformat": 4,
  "nbformat_minor": 0,
  "metadata": {
    "colab": {
      "name": "RandomForest & CrossValidation .ipynb",
      "provenance": [],
      "collapsed_sections": []
    },
    "kernelspec": {
      "name": "python3",
      "display_name": "Python 3"
    },
    "language_info": {
      "name": "python"
    }
  },
  "cells": [
    {
      "cell_type": "markdown",
      "source": [
        "### ***Importing Libraries***"
      ],
      "metadata": {
        "id": "0HWvWv7Dgz9H"
      }
    },
    {
      "cell_type": "code",
      "execution_count": 1,
      "metadata": {
        "id": "WtfdNX64Y05T"
      },
      "outputs": [],
      "source": [
        "# importing libraries\n",
        "import pandas as pd # data processing\n",
        "import numpy as np # linear algebra\n",
        "import matplotlib.pyplot as plt # visualization\n",
        "%matplotlib inline\n",
        "\n",
        "import seaborn as sns\n",
        "# increases the size of sns plots\n",
        "sns.set(rc={'figure.figsize':(8,6)})\n",
        "\n",
        "from sklearn.model_selection import train_test_split, KFold, cross_val_score\n",
        "from sklearn.neighbors import KNeighborsClassifier\n",
        "from sklearn.preprocessing import MinMaxScaler\n",
        "from sklearn.metrics import accuracy_score, confusion_matrix, r2_score, roc_curve, auc, classification_report\n",
        "import warnings\n",
        "warnings.filterwarnings('ignore')"
      ]
    },
    {
      "cell_type": "markdown",
      "source": [
        "## ***Data Acquisition***\n"
      ],
      "metadata": {
        "id": "igy3nX8-hRfE"
      }
    },
    {
      "cell_type": "code",
      "source": [
        "# mount google drive \n",
        "from google.colab import drive\n",
        "drive.mount('/content/drive')"
      ],
      "metadata": {
        "id": "qR4QrN54hR2c",
        "colab": {
          "base_uri": "https://localhost:8080/"
        },
        "outputId": "2afdce83-6831-471e-b094-f763d33bea25"
      },
      "execution_count": 2,
      "outputs": [
        {
          "output_type": "stream",
          "name": "stdout",
          "text": [
            "Drive already mounted at /content/drive; to attempt to forcibly remount, call drive.mount(\"/content/drive\", force_remount=True).\n"
          ]
        }
      ]
    },
    {
      "cell_type": "code",
      "source": [
        "# raw data in panda dataframe\n",
        "df = pd.read_csv('/content/drive/MyDrive/CSE 445 Project/Online Education Cleanded Dataset.csv')\n",
        "print('Data Frame Shape: \\n{}'.format(df.shape))\n",
        "#df.columns = df.columns.str.replace('Used smartphone/computer/laptop previously before online class?',\n",
        "#'Used Electronic Devices?')\n",
        "# shows five instances of the dataframe\n",
        "\n",
        "# drops the first column of the dataset\n",
        "df = df.iloc[: , 1:]\n",
        "print('First few instances of the dataset: ')\n",
        "df.head()"
      ],
      "metadata": {
        "colab": {
          "base_uri": "https://localhost:8080/",
          "height": 412
        },
        "id": "oyrnW3wQhY70",
        "outputId": "6207544c-75e3-4e3f-e63d-5cfb42da4275"
      },
      "execution_count": 3,
      "outputs": [
        {
          "output_type": "stream",
          "name": "stdout",
          "text": [
            "Data Frame Shape: \n",
            "(5715, 18)\n",
            "First few instances of the dataset: \n"
          ]
        },
        {
          "output_type": "execute_result",
          "data": {
            "text/plain": [
              "   Level of study?  Age?  Used Electronic Devices??  \\\n",
              "0                1  20.0                          1   \n",
              "1                0  25.0                          0   \n",
              "2                0  25.0                          1   \n",
              "3                1  21.0                          1   \n",
              "4                0  22.0                          1   \n",
              "\n",
              "   Result increased after online education  (comparatively)?  \\\n",
              "0                                                  0           \n",
              "1                                                  0           \n",
              "2                                                  1           \n",
              "3                                                  1           \n",
              "4                                                  0           \n",
              "\n",
              "   Knowledge increased after online education (comparatively)?  \\\n",
              "0                                                  1             \n",
              "1                                                  0             \n",
              "2                                                  1             \n",
              "3                                                  0             \n",
              "4                                                  0             \n",
              "\n",
              "   Happy with online education?  Education Institute Area?  \\\n",
              "0                             0                          1   \n",
              "1                             0                          1   \n",
              "2                             1                          0   \n",
              "3                             1                          1   \n",
              "4                             0                          0   \n",
              "\n",
              "   Have Internet availability?  Broadband / Mobile Internet?  \\\n",
              "0                            0                             0   \n",
              "1                            0                             1   \n",
              "2                            0                             1   \n",
              "3                            1                             1   \n",
              "4                            0                             1   \n",
              "\n",
              "   Total hours of study before online education?  \\\n",
              "0                                              4   \n",
              "1                                              4   \n",
              "2                                              5   \n",
              "3                                              5   \n",
              "4                                              4   \n",
              "\n",
              "   Total hours of study after online education?  \\\n",
              "0                                             3   \n",
              "1                                             4   \n",
              "2                                             2   \n",
              "3                                             3   \n",
              "4                                             2   \n",
              "\n",
              "   Class performance increased in online education?  Institute Type  \\\n",
              "0                                                 0               1   \n",
              "1                                                 0               1   \n",
              "2                                                 1               1   \n",
              "3                                                 0               0   \n",
              "4                                                 1               1   \n",
              "\n",
              "   Current location (During Study) ?  Gender  \\\n",
              "0                                  0       1   \n",
              "1                                  0       1   \n",
              "2                                  0       0   \n",
              "3                                  1       1   \n",
              "4                                  1       1   \n",
              "\n",
              "   Faced any issue with online class?  Preferred device for an online course  \n",
              "0                                   1                                      1  \n",
              "1                                   1                                      1  \n",
              "2                                   1                                      0  \n",
              "3                                   1                                      1  \n",
              "4                                   0                                      1  "
            ],
            "text/html": [
              "\n",
              "  <div id=\"df-61e7f492-29a6-4859-8a1a-b8bdeff4a485\">\n",
              "    <div class=\"colab-df-container\">\n",
              "      <div>\n",
              "<style scoped>\n",
              "    .dataframe tbody tr th:only-of-type {\n",
              "        vertical-align: middle;\n",
              "    }\n",
              "\n",
              "    .dataframe tbody tr th {\n",
              "        vertical-align: top;\n",
              "    }\n",
              "\n",
              "    .dataframe thead th {\n",
              "        text-align: right;\n",
              "    }\n",
              "</style>\n",
              "<table border=\"1\" class=\"dataframe\">\n",
              "  <thead>\n",
              "    <tr style=\"text-align: right;\">\n",
              "      <th></th>\n",
              "      <th>Level of study?</th>\n",
              "      <th>Age?</th>\n",
              "      <th>Used Electronic Devices??</th>\n",
              "      <th>Result increased after online education  (comparatively)?</th>\n",
              "      <th>Knowledge increased after online education (comparatively)?</th>\n",
              "      <th>Happy with online education?</th>\n",
              "      <th>Education Institute Area?</th>\n",
              "      <th>Have Internet availability?</th>\n",
              "      <th>Broadband / Mobile Internet?</th>\n",
              "      <th>Total hours of study before online education?</th>\n",
              "      <th>Total hours of study after online education?</th>\n",
              "      <th>Class performance increased in online education?</th>\n",
              "      <th>Institute Type</th>\n",
              "      <th>Current location (During Study) ?</th>\n",
              "      <th>Gender</th>\n",
              "      <th>Faced any issue with online class?</th>\n",
              "      <th>Preferred device for an online course</th>\n",
              "    </tr>\n",
              "  </thead>\n",
              "  <tbody>\n",
              "    <tr>\n",
              "      <th>0</th>\n",
              "      <td>1</td>\n",
              "      <td>20.0</td>\n",
              "      <td>1</td>\n",
              "      <td>0</td>\n",
              "      <td>1</td>\n",
              "      <td>0</td>\n",
              "      <td>1</td>\n",
              "      <td>0</td>\n",
              "      <td>0</td>\n",
              "      <td>4</td>\n",
              "      <td>3</td>\n",
              "      <td>0</td>\n",
              "      <td>1</td>\n",
              "      <td>0</td>\n",
              "      <td>1</td>\n",
              "      <td>1</td>\n",
              "      <td>1</td>\n",
              "    </tr>\n",
              "    <tr>\n",
              "      <th>1</th>\n",
              "      <td>0</td>\n",
              "      <td>25.0</td>\n",
              "      <td>0</td>\n",
              "      <td>0</td>\n",
              "      <td>0</td>\n",
              "      <td>0</td>\n",
              "      <td>1</td>\n",
              "      <td>0</td>\n",
              "      <td>1</td>\n",
              "      <td>4</td>\n",
              "      <td>4</td>\n",
              "      <td>0</td>\n",
              "      <td>1</td>\n",
              "      <td>0</td>\n",
              "      <td>1</td>\n",
              "      <td>1</td>\n",
              "      <td>1</td>\n",
              "    </tr>\n",
              "    <tr>\n",
              "      <th>2</th>\n",
              "      <td>0</td>\n",
              "      <td>25.0</td>\n",
              "      <td>1</td>\n",
              "      <td>1</td>\n",
              "      <td>1</td>\n",
              "      <td>1</td>\n",
              "      <td>0</td>\n",
              "      <td>0</td>\n",
              "      <td>1</td>\n",
              "      <td>5</td>\n",
              "      <td>2</td>\n",
              "      <td>1</td>\n",
              "      <td>1</td>\n",
              "      <td>0</td>\n",
              "      <td>0</td>\n",
              "      <td>1</td>\n",
              "      <td>0</td>\n",
              "    </tr>\n",
              "    <tr>\n",
              "      <th>3</th>\n",
              "      <td>1</td>\n",
              "      <td>21.0</td>\n",
              "      <td>1</td>\n",
              "      <td>1</td>\n",
              "      <td>0</td>\n",
              "      <td>1</td>\n",
              "      <td>1</td>\n",
              "      <td>1</td>\n",
              "      <td>1</td>\n",
              "      <td>5</td>\n",
              "      <td>3</td>\n",
              "      <td>0</td>\n",
              "      <td>0</td>\n",
              "      <td>1</td>\n",
              "      <td>1</td>\n",
              "      <td>1</td>\n",
              "      <td>1</td>\n",
              "    </tr>\n",
              "    <tr>\n",
              "      <th>4</th>\n",
              "      <td>0</td>\n",
              "      <td>22.0</td>\n",
              "      <td>1</td>\n",
              "      <td>0</td>\n",
              "      <td>0</td>\n",
              "      <td>0</td>\n",
              "      <td>0</td>\n",
              "      <td>0</td>\n",
              "      <td>1</td>\n",
              "      <td>4</td>\n",
              "      <td>2</td>\n",
              "      <td>1</td>\n",
              "      <td>1</td>\n",
              "      <td>1</td>\n",
              "      <td>1</td>\n",
              "      <td>0</td>\n",
              "      <td>1</td>\n",
              "    </tr>\n",
              "  </tbody>\n",
              "</table>\n",
              "</div>\n",
              "      <button class=\"colab-df-convert\" onclick=\"convertToInteractive('df-61e7f492-29a6-4859-8a1a-b8bdeff4a485')\"\n",
              "              title=\"Convert this dataframe to an interactive table.\"\n",
              "              style=\"display:none;\">\n",
              "        \n",
              "  <svg xmlns=\"http://www.w3.org/2000/svg\" height=\"24px\"viewBox=\"0 0 24 24\"\n",
              "       width=\"24px\">\n",
              "    <path d=\"M0 0h24v24H0V0z\" fill=\"none\"/>\n",
              "    <path d=\"M18.56 5.44l.94 2.06.94-2.06 2.06-.94-2.06-.94-.94-2.06-.94 2.06-2.06.94zm-11 1L8.5 8.5l.94-2.06 2.06-.94-2.06-.94L8.5 2.5l-.94 2.06-2.06.94zm10 10l.94 2.06.94-2.06 2.06-.94-2.06-.94-.94-2.06-.94 2.06-2.06.94z\"/><path d=\"M17.41 7.96l-1.37-1.37c-.4-.4-.92-.59-1.43-.59-.52 0-1.04.2-1.43.59L10.3 9.45l-7.72 7.72c-.78.78-.78 2.05 0 2.83L4 21.41c.39.39.9.59 1.41.59.51 0 1.02-.2 1.41-.59l7.78-7.78 2.81-2.81c.8-.78.8-2.07 0-2.86zM5.41 20L4 18.59l7.72-7.72 1.47 1.35L5.41 20z\"/>\n",
              "  </svg>\n",
              "      </button>\n",
              "      \n",
              "  <style>\n",
              "    .colab-df-container {\n",
              "      display:flex;\n",
              "      flex-wrap:wrap;\n",
              "      gap: 12px;\n",
              "    }\n",
              "\n",
              "    .colab-df-convert {\n",
              "      background-color: #E8F0FE;\n",
              "      border: none;\n",
              "      border-radius: 50%;\n",
              "      cursor: pointer;\n",
              "      display: none;\n",
              "      fill: #1967D2;\n",
              "      height: 32px;\n",
              "      padding: 0 0 0 0;\n",
              "      width: 32px;\n",
              "    }\n",
              "\n",
              "    .colab-df-convert:hover {\n",
              "      background-color: #E2EBFA;\n",
              "      box-shadow: 0px 1px 2px rgba(60, 64, 67, 0.3), 0px 1px 3px 1px rgba(60, 64, 67, 0.15);\n",
              "      fill: #174EA6;\n",
              "    }\n",
              "\n",
              "    [theme=dark] .colab-df-convert {\n",
              "      background-color: #3B4455;\n",
              "      fill: #D2E3FC;\n",
              "    }\n",
              "\n",
              "    [theme=dark] .colab-df-convert:hover {\n",
              "      background-color: #434B5C;\n",
              "      box-shadow: 0px 1px 3px 1px rgba(0, 0, 0, 0.15);\n",
              "      filter: drop-shadow(0px 1px 2px rgba(0, 0, 0, 0.3));\n",
              "      fill: #FFFFFF;\n",
              "    }\n",
              "  </style>\n",
              "\n",
              "      <script>\n",
              "        const buttonEl =\n",
              "          document.querySelector('#df-61e7f492-29a6-4859-8a1a-b8bdeff4a485 button.colab-df-convert');\n",
              "        buttonEl.style.display =\n",
              "          google.colab.kernel.accessAllowed ? 'block' : 'none';\n",
              "\n",
              "        async function convertToInteractive(key) {\n",
              "          const element = document.querySelector('#df-61e7f492-29a6-4859-8a1a-b8bdeff4a485');\n",
              "          const dataTable =\n",
              "            await google.colab.kernel.invokeFunction('convertToInteractive',\n",
              "                                                     [key], {});\n",
              "          if (!dataTable) return;\n",
              "\n",
              "          const docLinkHtml = 'Like what you see? Visit the ' +\n",
              "            '<a target=\"_blank\" href=https://colab.research.google.com/notebooks/data_table.ipynb>data table notebook</a>'\n",
              "            + ' to learn more about interactive tables.';\n",
              "          element.innerHTML = '';\n",
              "          dataTable['output_type'] = 'display_data';\n",
              "          await google.colab.output.renderOutput(dataTable, element);\n",
              "          const docLink = document.createElement('div');\n",
              "          docLink.innerHTML = docLinkHtml;\n",
              "          element.appendChild(docLink);\n",
              "        }\n",
              "      </script>\n",
              "    </div>\n",
              "  </div>\n",
              "  "
            ]
          },
          "metadata": {},
          "execution_count": 3
        }
      ]
    },
    {
      "cell_type": "code",
      "source": [
        "# columns of the dataset\n",
        "df.columns"
      ],
      "metadata": {
        "colab": {
          "base_uri": "https://localhost:8080/"
        },
        "id": "_0d62Ac3hcfm",
        "outputId": "d8fc4d39-4f75-418c-d94a-afe0178f47a3"
      },
      "execution_count": 4,
      "outputs": [
        {
          "output_type": "execute_result",
          "data": {
            "text/plain": [
              "Index(['Level of study?', 'Age?', 'Used Electronic Devices??',\n",
              "       'Result increased after online education  (comparatively)?',\n",
              "       'Knowledge increased after online education (comparatively)?',\n",
              "       'Happy with online education?', 'Education Institute Area?',\n",
              "       'Have Internet availability?', 'Broadband / Mobile Internet?',\n",
              "       'Total hours of study before online education?',\n",
              "       'Total hours of study after online education?',\n",
              "       'Class performance increased in online education?', 'Institute Type',\n",
              "       'Current location (During Study) ?', 'Gender',\n",
              "       'Faced any issue with online class?',\n",
              "       'Preferred device for an online course'],\n",
              "      dtype='object')"
            ]
          },
          "metadata": {},
          "execution_count": 4
        }
      ]
    },
    {
      "cell_type": "markdown",
      "source": [
        "### ***Splitting Dataset***\n",
        "*Splitting the dataset in a 70:30 ratio.\n",
        "70% for training & 30% for testing* "
      ],
      "metadata": {
        "id": "Gz_JdANFhqAl"
      }
    },
    {
      "cell_type": "code",
      "source": [
        "# separating attributes and target\n",
        "attribute = df.drop(columns = ['Happy with online education?'])\n",
        "target = df['Happy with online education?']\n",
        "print('Attribute Shape: ', attribute.shape)\n",
        "print('Target Shape: ', target.shape)"
      ],
      "metadata": {
        "colab": {
          "base_uri": "https://localhost:8080/"
        },
        "id": "PdDUExLkhpvM",
        "outputId": "280ded95-0446-4975-9584-409495f4833b"
      },
      "execution_count": 5,
      "outputs": [
        {
          "output_type": "stream",
          "name": "stdout",
          "text": [
            "Attribute Shape:  (5715, 16)\n",
            "Target Shape:  (5715,)\n"
          ]
        }
      ]
    },
    {
      "cell_type": "code",
      "source": [
        "# train test splitting\n",
        "X_train, X_test, y_train, y_test = train_test_split(attribute, target, train_size = 0.8, test_size = 0.2, random_state = 0)"
      ],
      "metadata": {
        "id": "b7G5ZWAnhxwV"
      },
      "execution_count": 6,
      "outputs": []
    },
    {
      "cell_type": "code",
      "source": [
        "print('For training: ')\n",
        "print('Attribute Shape: ', X_train.shape)\n",
        "print('Target Shape: ', y_train.shape)\n",
        "\n",
        "print('\\nFor testing: ')\n",
        "print('Attribute Shape: ', X_test.shape)\n",
        "print('Target Shape: ', y_test.shape)"
      ],
      "metadata": {
        "colab": {
          "base_uri": "https://localhost:8080/"
        },
        "id": "DN2V7P9Dh08c",
        "outputId": "2de5011c-967e-4c21-b5b2-4d7546cacbca"
      },
      "execution_count": 7,
      "outputs": [
        {
          "output_type": "stream",
          "name": "stdout",
          "text": [
            "For training: \n",
            "Attribute Shape:  (4572, 16)\n",
            "Target Shape:  (4572,)\n",
            "\n",
            "For testing: \n",
            "Attribute Shape:  (1143, 16)\n",
            "Target Shape:  (1143,)\n"
          ]
        }
      ]
    },
    {
      "cell_type": "code",
      "source": [
        "print('Train Data:\\n',y_train.value_counts())\n",
        "print('Test Data:\\n',y_test.value_counts())"
      ],
      "metadata": {
        "colab": {
          "base_uri": "https://localhost:8080/"
        },
        "id": "4CkF-c45FJOY",
        "outputId": "6bf609fe-ef1a-46de-d068-12868ac51c60"
      },
      "execution_count": 8,
      "outputs": [
        {
          "output_type": "stream",
          "name": "stdout",
          "text": [
            "Train Data:\n",
            " 0    2949\n",
            "1    1623\n",
            "Name: Happy with online education?, dtype: int64\n",
            "Test Data:\n",
            " 0    728\n",
            "1    415\n",
            "Name: Happy with online education?, dtype: int64\n"
          ]
        }
      ]
    },
    {
      "cell_type": "markdown",
      "source": [
        "## ***Random Forest***"
      ],
      "metadata": {
        "id": "aymwuFUM4FfD"
      }
    },
    {
      "cell_type": "code",
      "source": [
        "from sklearn.ensemble import RandomForestClassifier\n",
        "# class weight {0:0.777, 1:1.402}\n",
        "rand_forest = RandomForestClassifier(random_state=399, class_weight='balanced')\n",
        "rand_forest.fit(X_train, y_train)\n",
        "prediction_test = rand_forest.predict(X_test)\n",
        "prediction_train = rand_forest.predict(X_train)\n",
        "\n",
        "# random forest model score\n",
        "print('Training Score: ',rand_forest.score(X_train, y_train))\n",
        "print('Training Score: ',rand_forest.score(X_test, y_test))"
      ],
      "metadata": {
        "colab": {
          "base_uri": "https://localhost:8080/"
        },
        "id": "-L1GxaO04LbB",
        "outputId": "d5d9ac76-9d61-4671-9403-d0e66c1eb27d"
      },
      "execution_count": 22,
      "outputs": [
        {
          "output_type": "stream",
          "name": "stdout",
          "text": [
            "Training Score:  0.9870953630796151\n",
            "Training Score:  0.5984251968503937\n"
          ]
        }
      ]
    },
    {
      "cell_type": "markdown",
      "source": [
        "## ***RandomizedSearchCV***"
      ],
      "metadata": {
        "id": "GNQKB0aRyHS8"
      }
    },
    {
      "cell_type": "code",
      "source": [
        "# Number of trees in random forest\n",
        "n_estimators = [20, 50, 80, 90, 95, 100, 105, 108, 110, 140, 160, 200, 230, 255, 270, 300, 320]\n",
        "# Number of features to consider at every split\n",
        "max_features = ['auto', 'sqrt','log2']\n",
        "# Maximum number of levels in tree\n",
        "max_depth = [1, 2, 3, 4, 5, 6, 7, 8, 9, 10, 11, 12, 13, 14, 15]\n",
        "# Minimum number of samples required to split a node\n",
        "min_samples_split = [2, 3, 5, 7, 9, 10, 11, 12, 13, 15]\n",
        "# Minimum number of samples required at each leaf node\n",
        "min_samples_leaf = [1, 2, 4, 6, 7, 8, 9, 10, 13, 14, 15]\n",
        "# Create the random grid\n",
        "random_grid = {\n",
        "      'n_estimators': n_estimators,\n",
        "      'max_features': max_features,\n",
        "      'max_depth': max_depth,\n",
        "      'min_samples_split': min_samples_split,\n",
        "      'min_samples_leaf': min_samples_leaf,\n",
        "      'criterion':['entropy','gini']\n",
        "      }\n",
        "print(random_grid)"
      ],
      "metadata": {
        "colab": {
          "base_uri": "https://localhost:8080/"
        },
        "id": "DVcRcfkixgYK",
        "outputId": "74d28a39-541f-4e02-c667-7925abf4cfa8"
      },
      "execution_count": 23,
      "outputs": [
        {
          "output_type": "stream",
          "name": "stdout",
          "text": [
            "{'n_estimators': [20, 50, 80, 90, 95, 100, 105, 108, 110, 140, 160, 200, 230, 255, 270, 300, 320], 'max_features': ['auto', 'sqrt', 'log2'], 'max_depth': [1, 2, 3, 4, 5, 6, 7, 8, 9, 10, 11, 12, 13, 14, 15], 'min_samples_split': [2, 3, 5, 7, 9, 10, 11, 12, 13, 15], 'min_samples_leaf': [1, 2, 4, 6, 7, 8, 9, 10, 13, 14, 15], 'criterion': ['entropy', 'gini']}\n"
          ]
        }
      ]
    },
    {
      "cell_type": "code",
      "source": [
        "from sklearn.model_selection import RandomizedSearchCV\n",
        "rand_forest = RandomForestClassifier(class_weight='balanced', random_state=100)\n",
        "rand_forest_randomcv = RandomizedSearchCV(estimator=rand_forest,\n",
        "                                          param_distributions=random_grid,\n",
        "                                          n_iter=100,\n",
        "                                          cv=5,\n",
        "                                          verbose=2, \n",
        "                                          random_state=100,\n",
        "                                          n_jobs=-1)\n",
        "# fit the randomized model\n",
        "rand_forest_randomcv.fit(X_train,y_train)"
      ],
      "metadata": {
        "colab": {
          "base_uri": "https://localhost:8080/"
        },
        "id": "0egMmaeJzX0d",
        "outputId": "dfccf75f-a6b8-48e9-97a2-f1a6d1952054"
      },
      "execution_count": 24,
      "outputs": [
        {
          "output_type": "stream",
          "name": "stdout",
          "text": [
            "Fitting 5 folds for each of 100 candidates, totalling 500 fits\n"
          ]
        },
        {
          "output_type": "execute_result",
          "data": {
            "text/plain": [
              "RandomizedSearchCV(cv=5,\n",
              "                   estimator=RandomForestClassifier(class_weight='balanced',\n",
              "                                                    random_state=100),\n",
              "                   n_iter=100, n_jobs=-1,\n",
              "                   param_distributions={'criterion': ['entropy', 'gini'],\n",
              "                                        'max_depth': [1, 2, 3, 4, 5, 6, 7, 8, 9,\n",
              "                                                      10, 11, 12, 13, 14, 15],\n",
              "                                        'max_features': ['auto', 'sqrt',\n",
              "                                                         'log2'],\n",
              "                                        'min_samples_leaf': [1, 2, 4, 6, 7, 8,\n",
              "                                                             9, 10, 13, 14,\n",
              "                                                             15],\n",
              "                                        'min_samples_split': [2, 3, 5, 7, 9, 10,\n",
              "                                                              11, 12, 13, 15],\n",
              "                                        'n_estimators': [20, 50, 80, 90, 95,\n",
              "                                                         100, 105, 108, 110,\n",
              "                                                         140, 160, 200, 230,\n",
              "                                                         255, 270, 300, 320]},\n",
              "                   random_state=100, verbose=2)"
            ]
          },
          "metadata": {},
          "execution_count": 24
        }
      ]
    },
    {
      "cell_type": "code",
      "source": [
        "# best parameters\n",
        "rand_forest_randomcv.best_params_"
      ],
      "metadata": {
        "colab": {
          "base_uri": "https://localhost:8080/"
        },
        "id": "Sd8ltZza_UNw",
        "outputId": "09628a86-b878-4b7e-87dd-709dabd4c4df"
      },
      "execution_count": 25,
      "outputs": [
        {
          "output_type": "execute_result",
          "data": {
            "text/plain": [
              "{'criterion': 'entropy',\n",
              " 'max_depth': 10,\n",
              " 'max_features': 'sqrt',\n",
              " 'min_samples_leaf': 2,\n",
              " 'min_samples_split': 3,\n",
              " 'n_estimators': 255}"
            ]
          },
          "metadata": {},
          "execution_count": 25
        }
      ]
    },
    {
      "cell_type": "code",
      "source": [
        "best_random_grid = rand_forest_randomcv.best_estimator_\n",
        "print(best_random_grid)"
      ],
      "metadata": {
        "colab": {
          "base_uri": "https://localhost:8080/"
        },
        "id": "6S6UH5CTzrzD",
        "outputId": "4c9e5642-684c-4900-f20c-75be95171aa7"
      },
      "execution_count": 26,
      "outputs": [
        {
          "output_type": "stream",
          "name": "stdout",
          "text": [
            "RandomForestClassifier(class_weight='balanced', criterion='entropy',\n",
            "                       max_depth=10, max_features='sqrt', min_samples_leaf=2,\n",
            "                       min_samples_split=3, n_estimators=255, random_state=100)\n"
          ]
        }
      ]
    },
    {
      "cell_type": "code",
      "source": [
        "# Training Accuracy Of RandomForest with best parameters\n",
        "print(\"Training Accuracy is: \", best_random_grid.score(X_train, y_train))\n",
        "# Test Accuracy Accuracy Of RandomForest with best parameters\n",
        "print(\"Testing Accuracy is: \", best_random_grid.score(X_test, y_test))"
      ],
      "metadata": {
        "colab": {
          "base_uri": "https://localhost:8080/"
        },
        "id": "dbVAXBb7zxRS",
        "outputId": "31ffc5e7-02e8-4803-c011-40e37130f495"
      },
      "execution_count": 27,
      "outputs": [
        {
          "output_type": "stream",
          "name": "stdout",
          "text": [
            "Training Accuracy is:  0.9144794400699913\n",
            "Testing Accuracy is:  0.5774278215223098\n"
          ]
        }
      ]
    },
    {
      "cell_type": "markdown",
      "source": [
        "##***5 Fold CrossValidation***"
      ],
      "metadata": {
        "id": "1glwWDcRz1cq"
      }
    },
    {
      "cell_type": "code",
      "source": [
        "import time\n",
        "# applying k fold cross validation\n",
        "from sklearn.model_selection import cross_val_predict\n",
        "\n",
        "kfold_validation = KFold(n_splits = 5)\n",
        "scores = ['accuracy', 'precision', 'recall']\n",
        "\n",
        "print('-----------5 FOLD CROSS VALIDATION------------')\n",
        "for score in scores:\n",
        "    print('Metric : {}'.format(score))\n",
        "    print('Training Score: ', end=\"\")\n",
        "    start_time = time.time()\n",
        "    print(cross_val_score(best_random_grid, X_train, y_train, scoring=score, cv=kfold_validation).mean())\n",
        "    print('Computation Time: {}'.format(time.time() - start_time))\n",
        "    print()\n",
        "\n",
        "    print('\\nTesting Score: ', end=\"\")\n",
        "    start_time = time.time()\n",
        "    print(cross_val_score(best_random_grid, X_test, y_test, scoring=score, cv=kfold_validation).mean())\n",
        "    print('Computation Time: {}'.format(time.time() - start_time))\n",
        "    print('----------------------------------------------')"
      ],
      "metadata": {
        "colab": {
          "base_uri": "https://localhost:8080/"
        },
        "id": "3XA74nEJzzNa",
        "outputId": "aa315ff4-4e95-4043-891f-3a76f20b6476"
      },
      "execution_count": 31,
      "outputs": [
        {
          "output_type": "stream",
          "name": "stdout",
          "text": [
            "-----------5 FOLD CROSS VALIDATION------------\n",
            "Metric : accuracy\n",
            "Training Score: 0.5809295596130621\n",
            "Computation Time: 5.920968770980835\n",
            "\n",
            "\n",
            "Testing Score: 0.5826898031103961\n",
            "Computation Time: 2.952359199523926\n",
            "----------------------------------------------\n",
            "Metric : precision\n",
            "Training Score: 0.3609052797801507\n",
            "Computation Time: 5.390120983123779\n",
            "\n",
            "\n",
            "Testing Score: 0.3770180995475113\n",
            "Computation Time: 2.8747432231903076\n",
            "----------------------------------------------\n",
            "Metric : recall\n",
            "Training Score: 0.23577491573663215\n",
            "Computation Time: 5.360096454620361\n",
            "\n",
            "\n",
            "Testing Score: 0.22914603406267497\n",
            "Computation Time: 2.847923517227173\n",
            "----------------------------------------------\n"
          ]
        }
      ]
    },
    {
      "cell_type": "code",
      "source": [
        "train_accuracy = cross_val_score(best_random_grid, X_train, y_train, scoring='accuracy', cv=5)\n",
        "test_accuracy = cross_val_score(best_random_grid, X_test, y_test, scoring='accuracy', cv=5)"
      ],
      "metadata": {
        "id": "BSRzvx-SO9S2"
      },
      "execution_count": 37,
      "outputs": []
    },
    {
      "cell_type": "code",
      "source": [
        "# plotting graph\n",
        "splits = [1, 2, 3, 4, 5]\n",
        "plt.plot(splits, train_accuracy, 'ro-', splits, test_accuracy,'bv--')\n",
        "plt.legend(['Training Accuracy','Test Accuracy'])\n",
        "plt.xlabel('Number of split')\n",
        "plt.ylabel('Accuracy');"
      ],
      "metadata": {
        "colab": {
          "base_uri": "https://localhost:8080/",
          "height": 285
        },
        "id": "NY8-XbfwOjVQ",
        "outputId": "181d888a-d226-4faf-bbc5-968560d2b5fd"
      },
      "execution_count": 39,
      "outputs": [
        {
          "output_type": "display_data",
          "data": {
            "text/plain": [
              "<Figure size 432x288 with 1 Axes>"
            ],
            "image/png": "[encoded data removed]"
          },
          "metadata": {
            "needs_background": "light"
          }
        }
      ]
    },
    {
      "cell_type": "markdown",
      "source": [
        "## ***10 Fold CrossValidation***"
      ],
      "metadata": {
        "id": "tESUmVfZNl-Y"
      }
    },
    {
      "cell_type": "code",
      "source": [
        "import time\n",
        "# applying k fold cross validation\n",
        "from sklearn.model_selection import cross_val_predict\n",
        "kfold_validation = KFold(n_splits = 10)\n",
        "\n",
        "scores = ['accuracy', 'precision', 'recall']\n",
        "\n",
        "print('-----------10 FOLD CROSS VALIDATION------------')\n",
        "for score in scores:\n",
        "    print('Metric : {}'.format(score))\n",
        "    print('Training Score: ', end=\"\")\n",
        "    start_time = time.time()\n",
        "    print(cross_val_score(best_random_grid, X_train, y_train, scoring=score, cv=kfold_validation).mean())\n",
        "    print('Computation Time: {}'.format(time.time() - start_time))\n",
        "    print()\n",
        "\n",
        "    print('\\nTesting Score: ', end=\"\")\n",
        "    start_time = time.time()\n",
        "    print(cross_val_score(best_random_grid, X_test, y_test, scoring=score, cv=kfold_validation).mean())\n",
        "    print('Computation Time: {}'.format(time.time() - start_time))\n",
        "    print('----------------------------------------------')"
      ],
      "metadata": {
        "colab": {
          "base_uri": "https://localhost:8080/"
        },
        "id": "SImlmjiPNqFR",
        "outputId": "73786d72-da49-4b30-ffcf-102c923701e6"
      },
      "execution_count": 32,
      "outputs": [
        {
          "output_type": "stream",
          "name": "stdout",
          "text": [
            "-----------10 FOLD CROSS VALIDATION------------\n",
            "Metric : accuracy\n",
            "Training Score: 0.5671528766494988\n",
            "Computation Time: 15.039104223251343\n",
            "\n",
            "\n",
            "Testing Score: 0.5783524027459954\n",
            "Computation Time: 5.911302089691162\n",
            "----------------------------------------------\n",
            "Metric : precision\n",
            "Training Score: 0.3384727793501342\n",
            "Computation Time: 11.978325366973877\n",
            "\n",
            "\n",
            "Testing Score: 0.36596722634353823\n",
            "Computation Time: 6.079928636550903\n",
            "----------------------------------------------\n",
            "Metric : recall\n",
            "Training Score: 0.2304865747118841\n",
            "Computation Time: 10.742878675460815\n",
            "\n",
            "\n",
            "Testing Score: 0.22206569300634507\n",
            "Computation Time: 5.930295467376709\n",
            "----------------------------------------------\n"
          ]
        }
      ]
    },
    {
      "cell_type": "code",
      "source": [
        "train_accuracy = cross_val_score(best_random_grid, X_train, y_train, scoring='accuracy', cv=10)\n",
        "test_accuracy = cross_val_score(best_random_grid, X_test, y_test, scoring='accuracy', cv=10)"
      ],
      "metadata": {
        "id": "UNSXGuanQPHP"
      },
      "execution_count": 40,
      "outputs": []
    },
    {
      "cell_type": "code",
      "source": [
        "# plotting graph\n",
        "splits = [1, 2, 3, 4, 5, 6, 7, 8, 9, 10]\n",
        "plt.plot(splits, train_accuracy, 'ro-', splits, test_accuracy,'bv--')\n",
        "plt.legend(['Training Accuracy','Test Accuracy'])\n",
        "plt.xlabel('Number of split')\n",
        "plt.ylabel('Accuracy');"
      ],
      "metadata": {
        "colab": {
          "base_uri": "https://localhost:8080/",
          "height": 285
        },
        "id": "W0MDPzavQXLm",
        "outputId": "707a4dda-be26-46b1-873b-294e8ef508fb"
      },
      "execution_count": 41,
      "outputs": [
        {
          "output_type": "display_data",
          "data": {
            "text/plain": [
              "<Figure size 432x288 with 1 Axes>"
            ],
            "image/png": "[encoded data removed]"
          },
          "metadata": {
            "needs_background": "light"
          }
        }
      ]
    }
  ]
}